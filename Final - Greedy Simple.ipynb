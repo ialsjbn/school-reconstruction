{
 "cells": [
  {
   "cell_type": "code",
   "execution_count": 1,
   "metadata": {},
   "outputs": [],
   "source": [
    "import numpy as np\n",
    "import pandas as pd\n",
    "from school_lp_functions import *\n",
    "from school_greedy_real import * \n",
    "import pickle"
   ]
  },
  {
   "cell_type": "markdown",
   "metadata": {},
   "source": [
    "# Import Data"
   ]
  },
  {
   "cell_type": "code",
   "execution_count": 9,
   "metadata": {},
   "outputs": [],
   "source": [
    "schools_tanjung = pd.read_csv('schools_tanjung.csv')\n",
    "schools_tanjung.rename(columns = {'Unnamed: 0': 'field_1'}, inplace = True)\n",
    "distance_tanjung = pd.read_csv('tanjung_distance.csv') # distance between schools considering road\n",
    "\n",
    "schools_gangga = pd.read_csv('schools_gangga.csv')\n",
    "schools_gangga.rename(columns = {'Unnamed: 0': 'field_1'}, inplace = True)\n",
    "distance_gangga = pd.read_csv('distance_gangga.csv') # distance between schools considering road\n",
    "\n",
    "schools_pemenang = pd.read_csv('schools_pemenang.csv')\n",
    "schools_pemenang.rename(columns = {'Unnamed: 0': 'field_1'}, inplace = True)\n",
    "distance_pemenang = pd.read_csv('distance_pemenang.csv')\n",
    "\n",
    "schools_gunungsari = pd.read_csv('schools_gunungsari.csv')\n",
    "schools_gunungsari.rename(columns = {'Unnamed: 0': 'field_1'}, inplace = True)\n",
    "distance_gunungsari = pd.read_csv('distance_gunungsari.csv') # distance between schools considering road"
   ]
  },
  {
   "cell_type": "code",
   "execution_count": 10,
   "metadata": {},
   "outputs": [],
   "source": [
    "# define function to change RB, RS, RR to 3,2,1,0\n",
    "values = [0,1,2,3]\n",
    "\n",
    "conditions = [\n",
    "    (schools_tanjung['damage'] == 'BAIK'),\n",
    "    (schools_tanjung['damage'] == 'RR'),\n",
    "    (schools_tanjung['damage'] == 'RS'),\n",
    "    (schools_tanjung['damage'] == 'RB')]\n",
    "schools_tanjung['damage_level'] = np.select(conditions,values)\n",
    "\n",
    "conditions = [\n",
    "    (schools_gangga['damage'] == 'BAIK'),\n",
    "    (schools_gangga['damage'] == 'RR'),\n",
    "    (schools_gangga['damage'] == 'RS'),\n",
    "    (schools_gangga['damage'] == 'RB')]\n",
    "schools_gangga['damage_level'] = np.select(conditions,values)\n",
    "\n",
    "conditions = [\n",
    "    (schools_pemenang['damage'] == 'BAIK'),\n",
    "    (schools_pemenang['damage'] == 'RR'),\n",
    "    (schools_pemenang['damage'] == 'RS'),\n",
    "    (schools_pemenang['damage'] == 'RB')]\n",
    "schools_pemenang['damage_level'] = np.select(conditions,values)\n",
    "\n",
    "conditions = [\n",
    "    (schools_gunungsari['damage'] == 'BAIK'),\n",
    "    (schools_gunungsari['damage'] == 'RR'),\n",
    "    (schools_gunungsari['damage'] == 'RS'),\n",
    "    (schools_gunungsari['damage'] == 'RB')]\n",
    "schools_gunungsari['damage_level'] = np.select(conditions,values)"
   ]
  },
  {
   "cell_type": "code",
   "execution_count": 11,
   "metadata": {},
   "outputs": [],
   "source": [
    "cols = ['entry_cost', 'network_cost', 'exit_cost', 'total_cost']\n",
    "distance_tanjung.loc[distance_tanjung['origin_id'] == distance_tanjung['destination_id'],cols] = 0\n",
    "distance_gangga.loc[distance_gangga['origin_id'] == distance_gangga['destination_id'],cols] = 0\n",
    "distance_pemenang.loc[distance_pemenang['origin_id'] == distance_pemenang['destination_id'],cols] = 0\n",
    "distance_gunungsari.loc[distance_gunungsari['origin_id'] == distance_gunungsari['destination_id'],cols] = 0"
   ]
  },
  {
   "cell_type": "markdown",
   "metadata": {},
   "source": [
    "# Comparison"
   ]
  },
  {
   "cell_type": "code",
   "execution_count": 12,
   "metadata": {},
   "outputs": [],
   "source": [
    "schools_region = [schools_tanjung, schools_gangga, schools_pemenang, schools_gunungsari]\n",
    "distances_region = [distance_tanjung, distance_gangga, distance_pemenang, distance_gunungsari]\n",
    "region_names = ['Tanjung', 'Gangga', 'Pemenang', 'Gunungsari']"
   ]
  },
  {
   "cell_type": "code",
   "execution_count": 39,
   "metadata": {},
   "outputs": [
    {
     "name": "stdout",
     "output_type": "stream",
     "text": [
      "Region:  Tanjung\n",
      "Greedy\n",
      "Naive Policies\n",
      "LP\n",
      "Region:  Gangga\n",
      "Greedy\n",
      "Naive Policies\n",
      "LP\n",
      "Region:  Pemenang\n",
      "Greedy\n",
      "Naive Policies\n",
      "LP\n",
      "Region:  Gunungsari\n",
      "Greedy\n",
      "Naive Policies\n",
      "LP\n"
     ]
    }
   ],
   "source": [
    "results = {}\n",
    "for k in range(len(schools_region)):\n",
    "# for k in range(3,4):\n",
    "    \n",
    "    # extract data\n",
    "    print('Region: ', region_names[k])\n",
    "    schools = schools_region[k]\n",
    "    distance = distances_region[k]\n",
    "    \n",
    "    schools_id = schools['field_1'].values\n",
    "    ds = schools['damage_level'].values\n",
    "    demand = dict(zip(schools['field_1'], schools['total_students']))\n",
    "    demand_list = schools['total_students'].values\n",
    "    \n",
    "    if k == 0:\n",
    "        classroom = dict(zip(schools_tanjung['field_1'], schools_tanjung['classroom']))\n",
    "        cons_time = dict(zip(schools['field_1'], schools['days']))\n",
    "        cons_time_lp = {schools_id[i]: 3 if cons_time[schools_id[i]] == 83 else (0 if cons_time[schools_id[i]] == 0 else 1) for i in range(len(schools_id))}\n",
    "    else:\n",
    "        classroom = {schools_id[i]: 20 for i in range(len(schools_id))} # unlimited capacity\n",
    "        cons_time = {schools_id[i]: 83 if ds[i] == 3 else (0 if ds[i] == 0 else 27) for i in range(len(schools_id))}\n",
    "        cons_time_lp = {schools_id[i]: 3 if cons_time[schools_id[i]] == 83 else (0 if cons_time[schools_id[i]] == 0 else 1) for i in range(len(schools_id))}\n",
    "        \n",
    "    TIMES = list(range(sum(cons_time_lp.values())+1))\n",
    "    \n",
    "    # distance matrix for LP\n",
    "    distance_matrix = {}\n",
    "    for i in schools_id:\n",
    "        for j in schools_id:\n",
    "            dst = get_distance(i, j, distance)\n",
    "            distance_matrix[i,j] = dst\n",
    "    \n",
    "    # run greedy\n",
    "    print('Greedy')\n",
    "    greedy_order, greedy_cost,_ = greedy_capacity(schools_id, ds, demand, cons_time, \n",
    "                                                classroom, distance_matrix)\n",
    "    \n",
    "    # run naive policies\n",
    "    print('Naive Policies')\n",
    "    order_demand = get_demand_order(schools_id, ds, demand_list)\n",
    "    order_damage_demand = get_damage_demand_order(schools_id, ds, demand_list)\n",
    "    order_time_demand = get_time_demand_order(schools_id,ds,cons_time, demand_list)\n",
    "    \n",
    "    cost_demand = naive_capacity(order_demand, schools_id, ds, demand, classroom, distance_matrix)\n",
    "    cost_damage_demand = naive_capacity(order_damage_demand, schools_id, ds, demand, classroom, distance_matrix)\n",
    "    cost_time_demand = naive_capacity(order_time_demand, schools_id, ds, demand, classroom, distance_matrix)\n",
    "    \n",
    "    # run relaxed LP\n",
    "    print('LP')\n",
    "    X = schools_id[ds!=0] # damaged schools\n",
    "    S0 = schools_id[ds==0] # functional schools\n",
    "    MACHINES = [1]\n",
    "    B = 1000 # unlimited capacity\n",
    "    m, dv,schedule = relaxed_lp(X, S0, MACHINES, TIMES, B, cons_time_lp, demand, classroom, distance_matrix, print_output = False)\n",
    "    \n",
    "    dict_results = {}\n",
    "    for key in dv['c'].keys():\n",
    "        if key[1] in dict_results:\n",
    "            dict_results[key[1]] += dv['c'][key]\n",
    "        else:\n",
    "            dict_results[key[1]] = dv['c'][key]\n",
    "            \n",
    "    lists = sorted(dict_results.items())\n",
    "    relaxed_lp_time,relaxed_lp_cost = zip(*lists)\n",
    "    relaxed_lp_time = np.array(relaxed_lp_time)*27\n",
    "    \n",
    "    orders = [greedy_order, order_demand, order_damage_demand, order_time_demand]\n",
    "    costs = [greedy_cost, cost_demand, cost_damage_demand, cost_time_demand]\n",
    "    \n",
    "    # Combine all results\n",
    "    results[region_names[k]] = {'orders': orders, 'costs': costs, 'rlp_time': relaxed_lp_time, 'rlp_cost':relaxed_lp_cost}"
   ]
  },
  {
   "cell_type": "code",
   "execution_count": 57,
   "metadata": {},
   "outputs": [],
   "source": [
    "# save as pickle\n",
    "pickle.dump(results, open('results_greedy_simple.pkl', 'wb'))"
   ]
  },
  {
   "cell_type": "code",
   "execution_count": 2,
   "metadata": {},
   "outputs": [],
   "source": [
    "results = pickle.load( open( \"results_greedy_simple.pkl\", \"rb\" ) )"
   ]
  },
  {
   "cell_type": "code",
   "execution_count": 15,
   "metadata": {},
   "outputs": [
    {
     "name": "stdout",
     "output_type": "stream",
     "text": [
      "Tanjung\n"
     ]
    },
    {
     "data": {
      "image/png": "[encoded data removed]",
      "text/plain": [
       "<Figure size 432x288 with 1 Axes>"
      ]
     },
     "metadata": {
      "needs_background": "light"
     },
     "output_type": "display_data"
    },
    {
     "name": "stdout",
     "output_type": "stream",
     "text": [
      "Gangga\n"
     ]
    },
    {
     "data": {
      "image/png": "[encoded data removed]",
      "text/plain": [
       "<Figure size 432x288 with 1 Axes>"
      ]
     },
     "metadata": {
      "needs_background": "light"
     },
     "output_type": "display_data"
    },
    {
     "name": "stdout",
     "output_type": "stream",
     "text": [
      "Pemenang\n"
     ]
    },
    {
     "data": {
      "image/png": "[encoded data removed]",
      "text/plain": [
       "<Figure size 432x288 with 1 Axes>"
      ]
     },
     "metadata": {
      "needs_background": "light"
     },
     "output_type": "display_data"
    },
    {
     "name": "stdout",
     "output_type": "stream",
     "text": [
      "Gunungsari\n"
     ]
    },
    {
     "data": {
      "image/png": "[encoded data removed]",
      "text/plain": [
       "<Figure size 432x288 with 1 Axes>"
      ]
     },
     "metadata": {
      "needs_background": "light"
     },
     "output_type": "display_data"
    }
   ],
   "source": [
    "labels = ['Greedy','Demand', 'Damage + Demand', 'Time + Demand']\n",
    "results_area = {}\n",
    "for k in range(len(schools_region)):\n",
    "    print(region_names[k])\n",
    "    result = results[region_names[k]]\n",
    "    schools = schools_region[k]\n",
    "    schools_id = schools['field_1'].values\n",
    "    ds = schools['damage_level'].values\n",
    "    \n",
    "    if k == 0:\n",
    "        cons_time = dict(zip(schools['field_1'], schools['days']))\n",
    "    else:\n",
    "        cons_time = {schools_id[i]: 83 if ds[i] == 3 else (0 if ds[i] == 0 else 27) for i in range(len(schools_id))}\n",
    "    \n",
    "    plt.figure()\n",
    "    results_tmp = {}\n",
    "    for j in range(len(labels)):\n",
    "        x_time = np.zeros(len(result['orders'][j]) + 1)\n",
    "        for i in range(1, len(x_time)):\n",
    "            x_time[i] = x_time[i-1] + cons_time[result['orders'][j][i-1]]\n",
    "\n",
    "        plt.plot(x_time/365, result['costs'][j], drawstyle = 'steps-post', label = labels[j])\n",
    "        results_tmp[labels[j]] = np.trapz(result['costs'][j], x_time/365)\n",
    "\n",
    "    plt.plot(result['rlp_time']/365,result['rlp_cost'], color = 'k', drawstyle = 'steps-post', linestyle = 'dashed', label = 'Relaxed LP')\n",
    "    results_tmp['Relaxed LP'] = np.trapz(result['rlp_cost'], result['rlp_time']/365)\n",
    "\n",
    "    plt.grid(alpha = 0.3)\n",
    "    plt.xlabel('Years')\n",
    "    plt.ylabel('Cost')\n",
    "    plt.ticklabel_format(axis = 'y', style = 'sci', scilimits = (0,0))\n",
    "    plt.legend()\n",
    "    plt.show()\n",
    "    \n",
    "    results_area[region_names[k]] = results_tmp"
   ]
  },
  {
   "cell_type": "code",
   "execution_count": 16,
   "metadata": {},
   "outputs": [
    {
     "data": {
      "text/html": [
       "<div>\n",
       "<style scoped>\n",
       "    .dataframe tbody tr th:only-of-type {\n",
       "        vertical-align: middle;\n",
       "    }\n",
       "\n",
       "    .dataframe tbody tr th {\n",
       "        vertical-align: top;\n",
       "    }\n",
       "\n",
       "    .dataframe thead th {\n",
       "        text-align: right;\n",
       "    }\n",
       "</style>\n",
       "<table border=\"1\" class=\"dataframe\">\n",
       "  <thead>\n",
       "    <tr style=\"text-align: right;\">\n",
       "      <th></th>\n",
       "      <th>Tanjung</th>\n",
       "      <th>Gangga</th>\n",
       "      <th>Pemenang</th>\n",
       "      <th>Gunungsari</th>\n",
       "    </tr>\n",
       "  </thead>\n",
       "  <tbody>\n",
       "    <tr>\n",
       "      <th>Greedy</th>\n",
       "      <td>8.462818e+06</td>\n",
       "      <td>1.650450e+07</td>\n",
       "      <td>1.053414e+06</td>\n",
       "      <td>2.722064e+06</td>\n",
       "    </tr>\n",
       "    <tr>\n",
       "      <th>Demand</th>\n",
       "      <td>1.234267e+07</td>\n",
       "      <td>2.242547e+07</td>\n",
       "      <td>2.284354e+06</td>\n",
       "      <td>4.748413e+06</td>\n",
       "    </tr>\n",
       "    <tr>\n",
       "      <th>Damage + Demand</th>\n",
       "      <td>1.794541e+07</td>\n",
       "      <td>2.352424e+07</td>\n",
       "      <td>2.385065e+06</td>\n",
       "      <td>6.768931e+06</td>\n",
       "    </tr>\n",
       "    <tr>\n",
       "      <th>Time + Demand</th>\n",
       "      <td>1.065456e+07</td>\n",
       "      <td>2.136774e+07</td>\n",
       "      <td>1.325262e+06</td>\n",
       "      <td>3.436288e+06</td>\n",
       "    </tr>\n",
       "    <tr>\n",
       "      <th>Relaxed LP</th>\n",
       "      <td>8.308461e+06</td>\n",
       "      <td>1.615419e+07</td>\n",
       "      <td>1.039738e+06</td>\n",
       "      <td>2.696469e+06</td>\n",
       "    </tr>\n",
       "  </tbody>\n",
       "</table>\n",
       "</div>"
      ],
      "text/plain": [
       "                      Tanjung        Gangga      Pemenang    Gunungsari\n",
       "Greedy           8.462818e+06  1.650450e+07  1.053414e+06  2.722064e+06\n",
       "Demand           1.234267e+07  2.242547e+07  2.284354e+06  4.748413e+06\n",
       "Damage + Demand  1.794541e+07  2.352424e+07  2.385065e+06  6.768931e+06\n",
       "Time + Demand    1.065456e+07  2.136774e+07  1.325262e+06  3.436288e+06\n",
       "Relaxed LP       8.308461e+06  1.615419e+07  1.039738e+06  2.696469e+06"
      ]
     },
     "execution_count": 16,
     "metadata": {},
     "output_type": "execute_result"
    }
   ],
   "source": [
    "pd.DataFrame.from_dict(results_area)"
   ]
  },
  {
   "cell_type": "code",
   "execution_count": null,
   "metadata": {},
   "outputs": [],
   "source": []
  }
 ],
 "metadata": {
  "kernelspec": {
   "display_name": "Python 3",
   "language": "python",
   "name": "python3"
  },
  "language_info": {
   "codemirror_mode": {
    "name": "ipython",
    "version": 3
   },
   "file_extension": ".py",
   "mimetype": "text/x-python",
   "name": "python",
   "nbconvert_exporter": "python",
   "pygments_lexer": "ipython3",
   "version": "3.7.6"
  }
 },
 "nbformat": 4,
 "nbformat_minor": 4
}
