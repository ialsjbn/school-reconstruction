{
 "cells": [
  {
   "cell_type": "code",
   "execution_count": 8,
   "metadata": {},
   "outputs": [],
   "source": [
    "import numpy as np\n",
    "import pandas as pd\n",
    "import copy\n",
    "import matplotlib.pyplot as plt\n",
    "import matplotlib\n",
    "from school_greedy_real import *\n",
    "from recovery_functions import *"
   ]
  },
  {
   "cell_type": "code",
   "execution_count": 9,
   "metadata": {},
   "outputs": [],
   "source": [
    "import pickle\n",
    "results = pickle.load( open( \"results_tmp.pkl\", \"rb\" ) )\n",
    "orders, costs, labels = results"
   ]
  },
  {
   "cell_type": "code",
   "execution_count": 10,
   "metadata": {},
   "outputs": [],
   "source": [
    "order_base = orders[0]\n",
    "cost_base = costs[0]"
   ]
  },
  {
   "cell_type": "code",
   "execution_count": 11,
   "metadata": {},
   "outputs": [],
   "source": [
    "total_results = pickle.load(open('results_realistic.pkl', \"rb\"))"
   ]
  },
  {
   "cell_type": "markdown",
   "metadata": {},
   "source": [
    "# Import Data"
   ]
  },
  {
   "cell_type": "code",
   "execution_count": 12,
   "metadata": {},
   "outputs": [],
   "source": [
    "schools = pd.read_csv('schools_tanjung.csv')\n",
    "schools.rename(columns = {'Unnamed: 0': 'field_1'}, inplace = True)\n",
    "distance = pd.read_csv('tanjung_distance.csv') # distance between schools considering road\n",
    "\n",
    "# define function to change RB, RS, RR to 3,2,1,0\n",
    "conditions = [\n",
    "    (schools['damage'] == 'BAIK'),\n",
    "    (schools['damage'] == 'RR'),\n",
    "    (schools['damage'] == 'RS'),\n",
    "    (schools['damage'] == 'RB')\n",
    "]\n",
    "\n",
    "values = [0,1,2,3]\n",
    "schools['damage_level'] = np.select(conditions,values)\n",
    "\n",
    "cols = ['entry_cost', 'network_cost', 'exit_cost', 'total_cost']\n",
    "distance.loc[distance['origin_id'] == distance['destination_id'],cols] = 0\n",
    "\n",
    "schools_id = schools['field_1'].values\n",
    "ds = schools['damage_level'].values\n",
    "\n",
    "demand_list = schools['total_students'].values\n",
    "demand = dict(zip(schools['field_1'], schools['total_students']))\n",
    "\n",
    "classroom_list = schools['classroom'].values\n",
    "classroom = dict(zip(schools['field_1'], schools['classroom']))\n",
    "\n",
    "cons_time_list = schools['days'].values\n",
    "cons_time = dict(zip(schools['field_1'], schools['days']))\n",
    "\n",
    "# for new greedy\n",
    "distance_matrix = {}\n",
    "for i in schools_id:\n",
    "    for j in schools_id:\n",
    "        dst = get_distance(i, j, distance)\n",
    "        distance_matrix[i,j] = dst\n",
    "\n",
    "# # for old greedy function\n",
    "# distance_matrix_array = []\n",
    "# for i in range(len(schools_id)):\n",
    "#     row = []\n",
    "#     for j in range(len(schools_id)):\n",
    "#         dst = get_distance(schools_id[i],  schools_id[j], distance)\n",
    "#         row.append(dst)\n",
    "#     distance_matrix_array.append(row)"
   ]
  },
  {
   "cell_type": "code",
   "execution_count": 13,
   "metadata": {},
   "outputs": [],
   "source": [
    "# Using coordinates from trans-loc\n",
    "distance_temp = pd.read_csv('distance_tempschool_lp.csv')"
   ]
  },
  {
   "cell_type": "code",
   "execution_count": 14,
   "metadata": {},
   "outputs": [],
   "source": [
    "# temporary schools\n",
    "tmpschool_id = distance_temp['destination_id'].unique()\n",
    "for i in tmpschool_id:\n",
    "    demand[i] = 0\n",
    "    classroom[i] = 12\n",
    "    \n",
    "distance_matrix = {}\n",
    "for i in schools_id:\n",
    "    for j in schools_id:\n",
    "        dst = get_distance(i, j, distance)\n",
    "        distance_matrix[i,j] = dst\n",
    "    for k in tmpschool_id:\n",
    "        dst = get_distance(i, k, distance_temp)\n",
    "        distance_matrix[i,k] = dst"
   ]
  },
  {
   "cell_type": "markdown",
   "metadata": {},
   "source": [
    "# Basecase"
   ]
  },
  {
   "cell_type": "code",
   "execution_count": 15,
   "metadata": {},
   "outputs": [],
   "source": [
    "P = 1000\n",
    "M = 2\n",
    "B = 50"
   ]
  },
  {
   "cell_type": "code",
   "execution_count": 5,
   "metadata": {},
   "outputs": [],
   "source": [
    "# Greedy basecase\n",
    "P = 1000\n",
    "M = 2\n",
    "B = 50\n",
    "order_base, cost_base, last_base, costred_base = greedy_capacity_tmp(schools_id, tmpschool_id, ds, demand, cons_time, \n",
    "                                                                     classroom, distance_matrix, B, M, P)"
   ]
  },
  {
   "cell_type": "code",
   "execution_count": 102,
   "metadata": {},
   "outputs": [],
   "source": [
    "# Naive policies\n",
    "order_demand = get_demand_order(schools_id, ds, demand_list)\n",
    "order_damage_demand = get_damage_demand_order(schools_id, ds, demand_list)\n",
    "order_time_demand = get_time_demand_order(schools_id,ds,cons_time, demand_list)"
   ]
  },
  {
   "cell_type": "code",
   "execution_count": 103,
   "metadata": {},
   "outputs": [],
   "source": [
    "cost_demand_tmp = naive_capacity_tmp(order_demand, schools_id, tmpschool_id, ds, demand, classroom, distance_matrix, B, M, P)\n",
    "cost_damage_demand_tmp = naive_capacity_tmp(order_damage_demand, schools_id, tmpschool_id, ds, demand, classroom, distance_matrix, B, M, P)\n",
    "cost_time_demand_tmp = naive_capacity_tmp(order_time_demand, schools_id, tmpschool_id, ds, demand, classroom, distance_matrix, B, M, P)"
   ]
  },
  {
   "cell_type": "code",
   "execution_count": 173,
   "metadata": {},
   "outputs": [],
   "source": [
    "orders = [order_base, order_demand, order_damage_demand, order_time_demand]\n",
    "costs = [cost_base, cost_demand_tmp, cost_damage_demand_tmp, cost_time_demand_tmp]\n",
    "labels = ['Greedy', 'Demand', 'Damage + Demand', 'Time + Demand']"
   ]
  },
  {
   "cell_type": "code",
   "execution_count": 224,
   "metadata": {},
   "outputs": [
    {
     "data": {
      "image/png": "[encoded data removed]",
      "text/plain": [
       "<Figure size 432x288 with 1 Axes>"
      ]
     },
     "metadata": {
      "needs_background": "light"
     },
     "output_type": "display_data"
    }
   ],
   "source": [
    "# Need to convert ordering into multiple contractors\n",
    "sim_time = 2500\n",
    "num_cons = 2\n",
    "data_finish = []\n",
    "\n",
    "results_base = {}\n",
    "plt.figure()\n",
    "for i in range(len(orders)):\n",
    "    \n",
    "    # change ordering to be in index form\n",
    "    order = [np.where(schools_id == orders[i][j])[0][0] for j in range(len(orders[i]))]\n",
    "    \n",
    "    data_comp, _, x_time = simulate_recovery(num_cons, ds, cons_time_list, order, sim_time)\n",
    "    plt.plot(x_time/365, costs[i], drawstyle = 'steps-post', label = labels[i])\n",
    "    results_base[labels[i]] = np.trapz(costs[i], x_time/365)\n",
    "    data_finish.append(data_comp)\n",
    "\n",
    "plt.grid(alpha = 0.3)\n",
    "plt.xlabel('Years')\n",
    "plt.ylabel('Cost')\n",
    "plt.ticklabel_format(axis = 'y', style = 'sci', scilimits = (0,0))\n",
    "plt.legend()\n",
    "plt.show()"
   ]
  },
  {
   "cell_type": "code",
   "execution_count": 106,
   "metadata": {},
   "outputs": [
    {
     "data": {
      "text/html": [
       "<div>\n",
       "<style scoped>\n",
       "    .dataframe tbody tr th:only-of-type {\n",
       "        vertical-align: middle;\n",
       "    }\n",
       "\n",
       "    .dataframe tbody tr th {\n",
       "        vertical-align: top;\n",
       "    }\n",
       "\n",
       "    .dataframe thead th {\n",
       "        text-align: right;\n",
       "    }\n",
       "</style>\n",
       "<table border=\"1\" class=\"dataframe\">\n",
       "  <thead>\n",
       "    <tr style=\"text-align: right;\">\n",
       "      <th></th>\n",
       "      <th>Area</th>\n",
       "    </tr>\n",
       "  </thead>\n",
       "  <tbody>\n",
       "    <tr>\n",
       "      <th>Greedy</th>\n",
       "      <td>5.229747e+06</td>\n",
       "    </tr>\n",
       "    <tr>\n",
       "      <th>Demand</th>\n",
       "      <td>7.712206e+06</td>\n",
       "    </tr>\n",
       "    <tr>\n",
       "      <th>Damage + Demand</th>\n",
       "      <td>1.086080e+07</td>\n",
       "    </tr>\n",
       "    <tr>\n",
       "      <th>Time + Demand</th>\n",
       "      <td>6.457115e+06</td>\n",
       "    </tr>\n",
       "  </tbody>\n",
       "</table>\n",
       "</div>"
      ],
      "text/plain": [
       "                         Area\n",
       "Greedy           5.229747e+06\n",
       "Demand           7.712206e+06\n",
       "Damage + Demand  1.086080e+07\n",
       "Time + Demand    6.457115e+06"
      ]
     },
     "execution_count": 106,
     "metadata": {},
     "output_type": "execute_result"
    }
   ],
   "source": [
    "pd.DataFrame.from_dict(results_base, orient = 'index', columns = ['Area'])"
   ]
  },
  {
   "cell_type": "code",
   "execution_count": 186,
   "metadata": {},
   "outputs": [],
   "source": [
    "crews = [1,2]\n",
    "cont_id = crews * len(schools_id)"
   ]
  },
  {
   "cell_type": "code",
   "execution_count": 310,
   "metadata": {},
   "outputs": [],
   "source": [
    "order = [np.where(schools_id == order_base[j])[0][0] for j in range(len(order_base))]"
   ]
  },
  {
   "cell_type": "code",
   "execution_count": 317,
   "metadata": {},
   "outputs": [
    {
     "name": "stdout",
     "output_type": "stream",
     "text": [
      "[13, 32, 19, 10, 2, 4, 3, 30, 0, 7, 16, 8, 5, 26, 33, 11, 31, 1, 29, 14, 18, 28, 6, 21, 20, 17]\n"
     ]
    }
   ],
   "source": [
    "print(order)"
   ]
  },
  {
   "cell_type": "code",
   "execution_count": 318,
   "metadata": {},
   "outputs": [
    {
     "data": {
      "text/plain": [
       "13"
      ]
     },
     "execution_count": 318,
     "metadata": {},
     "output_type": "execute_result"
    }
   ],
   "source": [
    "schools_idx = schools.set_index('field_1')\n",
    "schools_idx.loc[schools_id[order[0]], 'index']"
   ]
  },
  {
   "cell_type": "code",
   "execution_count": 327,
   "metadata": {},
   "outputs": [],
   "source": [
    "def plot_gantt(tmp, title, order_base, schools, schools_id):\n",
    "\n",
    "    crew1 = [tmp[0]]\n",
    "    c1_start = tmp[0][2]\n",
    "\n",
    "    for i in range(1,len(tmp)):\n",
    "        if tmp[i][1] == c1_start:\n",
    "            crew1.append(tmp[i])\n",
    "            c1_start = tmp[i][2]\n",
    "\n",
    "    crew2 = [tmp[1]]\n",
    "    c2_start = tmp[1][2]\n",
    "\n",
    "    for i in range(1,len(tmp)):\n",
    "        if tmp[i] not in crew1 and tmp[i][1] == c2_start:\n",
    "            crew2.append(tmp[i])\n",
    "            c2_start = tmp[i][2]\n",
    "\n",
    "    # make dictionary for plotting purposes\n",
    "    SCHEDULE = {}\n",
    "    \n",
    "    for i in range(len(crew1)):\n",
    "        SCHEDULE[crew1[i][0]] = [{'start': crew1[i][1]/365, 'finish': crew1[i][2]/365, 'machine': 1}]\n",
    "\n",
    "    for i in range(len(crew2)):\n",
    "        SCHEDULE[crew2[i][0]] = [{'start': crew2[i][1]/365, 'finish': crew2[i][2]/365, 'machine': 2}]\n",
    "    \n",
    "    # get correct index\n",
    "    schools_idx = schools.set_index('field_1')\n",
    "    \n",
    "    # choose coloring\n",
    "    cmap = plt.cm.RdBu\n",
    "    order = [np.where(schools_id == order_base[j])[0][0] for j in range(len(order_base))]\n",
    "    for i in range(len(order)):\n",
    "        SCHEDULE[order[i]][0]['color'] = cmap(1.*i/len(order))\n",
    "        SCHEDULE[order[i]][0]['index'] = schools_idx.loc[schools_id[order[i]], 'index']\n",
    "\n",
    "    plt.figure(figsize=(12, 0.7*len(crews)))\n",
    "    bw = 0.3\n",
    "    for j in SCHEDULE.keys():\n",
    "        for k in range(len(SCHEDULE[j])):\n",
    "            idx = crews.index(SCHEDULE[j][k]['machine'])\n",
    "            x = SCHEDULE[j][k]['start']\n",
    "            y = SCHEDULE[j][k]['finish']\n",
    "            plt.fill_between([x,y],[idx-bw,idx-bw],[idx+bw,idx+bw], color=SCHEDULE[j][k]['color'], alpha=0.5)\n",
    "            plt.plot([x,y,y,x,x], [idx-bw,idx-bw,idx+bw,idx+bw,idx-bw],color='k', linewidth = 0.7)\n",
    "            plt.text((SCHEDULE[j][k]['start'] + SCHEDULE[j][k]['finish'])/2.0,idx,\n",
    "                SCHEDULE[j][k]['index'], color='black', \n",
    "                horizontalalignment='center', verticalalignment='center')\n",
    "    plt.xlim(-0.1, 2.5)\n",
    "    plt.ylim(-0.5, len(crews)-0.5)\n",
    "    plt.title(title)\n",
    "    plt.yticks(range(len(crews)), crews)\n",
    "    plt.xlabel('Years')\n",
    "    plt.ylabel('Construction Crew')\n",
    "    plt.gca().xaxis.grid(True, alpha = 0.4)"
   ]
  },
  {
   "cell_type": "code",
   "execution_count": 328,
   "metadata": {},
   "outputs": [
    {
     "data": {
      "image/png": "[encoded data removed]",
      "text/plain": [
       "<Figure size 864x100.8 with 1 Axes>"
      ]
     },
     "metadata": {
      "needs_background": "light"
     },
     "output_type": "display_data"
    },
    {
     "data": {
      "image/png": "[encoded data removed]",
      "text/plain": [
       "<Figure size 864x100.8 with 1 Axes>"
      ]
     },
     "metadata": {
      "needs_background": "light"
     },
     "output_type": "display_data"
    },
    {
     "data": {
      "image/png": "[encoded data removed]",
      "text/plain": [
       "<Figure size 864x100.8 with 1 Axes>"
      ]
     },
     "metadata": {
      "needs_background": "light"
     },
     "output_type": "display_data"
    },
    {
     "data": {
      "image/png": "[encoded data removed]",
      "text/plain": [
       "<Figure size 864x100.8 with 1 Axes>"
      ]
     },
     "metadata": {
      "needs_background": "light"
     },
     "output_type": "display_data"
    }
   ],
   "source": [
    "for j in range(len(data_finish)):\n",
    "#     print(labels[j])\n",
    "    tmp = data_finish[j]\n",
    "    plot_gantt(tmp, labels[j], order_base, schools, schools_id)"
   ]
  },
  {
   "cell_type": "code",
   "execution_count": 78,
   "metadata": {},
   "outputs": [],
   "source": [
    "B = 50\n",
    "P = 1000\n",
    "M = 2"
   ]
  },
  {
   "cell_type": "markdown",
   "metadata": {},
   "source": [
    "## Disaggregated by schools"
   ]
  },
  {
   "cell_type": "code",
   "execution_count": 65,
   "metadata": {},
   "outputs": [],
   "source": [
    "# Disaggregated by schools\n",
    "order_disagg, _,_,_, cost_school_disagg = greedy_capacity_diff(schools_id, tmpschool_id, ds, demand, cons_time, \n",
    "                                                                                                  classroom, distance_matrix, B, M, P)\n",
    "demand_cost_disagg, demand_cost_school_disagg = naive_capacity_diff(order_demand, schools_id, tmpschool_id, ds, demand, classroom, distance_matrix, B, M, P)\n",
    "demanddamage_cost_disagg, demanddamage_cost_school_disagg = naive_capacity_diff(order_damage_demand, schools_id, tmpschool_id, ds, demand, classroom, distance_matrix, B, M, P)\n",
    "timedemand_cost_disagg, timedemand_cost_school_disagg = naive_capacity_diff(order_time_demand, schools_id, tmpschool_id, ds, demand, classroom, distance_matrix, B, M, P)"
   ]
  },
  {
   "cell_type": "code",
   "execution_count": 109,
   "metadata": {},
   "outputs": [],
   "source": [
    "orders = [order_disagg, order_demand, order_damage_demand, order_time_demand]\n",
    "costs = [cost_school_disagg, demand_cost_school_disagg, demanddamage_cost_school_disagg, timedemand_cost_school_disagg]\n",
    "labels = ['Greedy', 'Demand', 'Damage + Demand', 'Time + Demand']\n",
    "damaged_schools = schools_id[ds != 0]\n",
    "\n",
    "results_disagg = {}\n",
    "\n",
    "for i in range(len(orders)):\n",
    "    \n",
    "    # change ordering to be in index form\n",
    "    order = [np.where(schools_id == orders[i][j])[0][0] for j in range(len(orders[i]))]\n",
    "    \n",
    "    _, _, x_time = simulate_recovery(num_cons, ds, cons_time_list, order, sim_time)\n",
    "        \n",
    "    for j in damaged_schools:\n",
    "        if j not in results_disagg.keys():\n",
    "            results_disagg[j] = {}\n",
    "        results_disagg[j][labels[i]] = np.trapz(costs[i][j], x_time/365)\n",
    "results_disagg = pd.DataFrame.from_dict(results_disagg, orient= 'index')\n",
    "\n",
    "demand_damage = {school: demand[school] for school in schools_id[ds != 0]}\n",
    "results_disagg_norm = results_disagg.divide(demand_damage, axis = 0)\n",
    "idx = [schools.loc[schools['field_1'] == i, 'index'].tolist()[0] for i in damaged_schools]\n",
    "results_disagg_norm_idx = results_disagg_norm.copy()\n",
    "results_disagg_norm_idx.index = idx\n",
    "\n",
    "order_disagg_idx = [schools.loc[schools['field_1'] == i, 'index'].tolist()[0] for i in order_disagg]\n",
    "order_demand_idx =[schools.loc[schools['field_1'] == i, 'index'].tolist()[0] for i in order_demand]\n",
    "ds_damage_order_idx = [schools.loc[schools['field_1'] == i, 'index'].tolist()[0] for i in order_damage_demand]\n",
    "time_demand_order_idx = [schools.loc[schools['field_1'] == i, 'index'].tolist()[0] for i in order_time_demand]"
   ]
  },
  {
   "cell_type": "code",
   "execution_count": 112,
   "metadata": {},
   "outputs": [
    {
     "data": {
      "image/png": "[encoded data removed]",
      "text/plain": [
       "<Figure size 1440x720 with 4 Axes>"
      ]
     },
     "metadata": {
      "needs_background": "light"
     },
     "output_type": "display_data"
    }
   ],
   "source": [
    "# Normalized sorted by each policy\n",
    "plt.figure(figsize = (20,10))\n",
    "\n",
    "plt.subplot(2,2,1)\n",
    "results_disagg_norm_idx['Greedy'][order_disagg_idx].plot.bar(label = labels[0])\n",
    "plt.ylim([0, 1.05e4])\n",
    "plt.grid(alpha = 0.3)\n",
    "plt.xlabel('Schools')\n",
    "plt.xticks(rotation = 0)\n",
    "plt.ylabel('Cost')\n",
    "plt.ticklabel_format(axis = 'y', style = 'sci', scilimits = (0,0))\n",
    "plt.legend(loc = 'upper left')\n",
    "\n",
    "plt.subplot(2,2,2)\n",
    "results_disagg_norm_idx['Demand'][order_demand_idx].plot.bar(color= 'tab:orange', label = labels[1])\n",
    "plt.ylim([0, 1.05e4])\n",
    "plt.grid(alpha = 0.3)\n",
    "plt.xlabel('Schools')\n",
    "plt.xticks(rotation = 0)\n",
    "plt.ylabel('Cost')\n",
    "plt.ticklabel_format(axis = 'y', style = 'sci', scilimits = (0,0))\n",
    "plt.legend(loc = 'upper left')\n",
    "\n",
    "plt.subplot(2,2,3)\n",
    "results_disagg_norm_idx['Damage + Demand'][ds_damage_order_idx].plot.bar(color= 'tab:green', label = labels[2])\n",
    "plt.ylim([0, 1.05e4])\n",
    "plt.grid(alpha = 0.3)\n",
    "plt.xlabel('Schools')\n",
    "plt.xticks(rotation = 0)\n",
    "plt.ylabel('Cost')\n",
    "plt.ticklabel_format(axis = 'y', style = 'sci', scilimits = (0,0))\n",
    "plt.legend(loc = 'upper left')\n",
    "\n",
    "plt.subplot(2,2,4)\n",
    "results_disagg_norm_idx['Time + Demand'][time_demand_order_idx].plot.bar(color= 'tab:red', label = labels[3])\n",
    "plt.ylim([0, 1.05e4])\n",
    "plt.grid(alpha = 0.3)\n",
    "plt.xlabel('Schools')\n",
    "plt.xticks(rotation = 0)\n",
    "plt.ylabel('Cost')\n",
    "plt.ticklabel_format(axis = 'y', style = 'sci', scilimits = (0,0))\n",
    "plt.legend(loc = 'upper left')\n",
    "\n",
    "plt.show()"
   ]
  },
  {
   "cell_type": "markdown",
   "metadata": {},
   "source": [
    "# Sensitivity Studies"
   ]
  },
  {
   "cell_type": "markdown",
   "metadata": {},
   "source": [
    "## Number of Construction Crews"
   ]
  },
  {
   "cell_type": "code",
   "execution_count": 115,
   "metadata": {},
   "outputs": [
    {
     "data": {
      "image/png": "[encoded data removed]",
      "text/plain": [
       "<Figure size 432x288 with 1 Axes>"
      ]
     },
     "metadata": {
      "needs_background": "light"
     },
     "output_type": "display_data"
    }
   ],
   "source": [
    "# greedy order is the same\n",
    "num_contractors = [1,2,3,5,10]\n",
    "sim_time = 2500\n",
    "greedy_order = [np.where(schools_id == order_base[i])[0][0] for i in range(len(order_base))]\n",
    "\n",
    "norm = matplotlib.colors.Normalize(vmin=0, vmax=len(num_contractors))\n",
    "cmap = matplotlib.cm.get_cmap(\"viridis\")\n",
    "\n",
    "results_cons = {}\n",
    "plt.figure()\n",
    "for i in range(len(num_contractors)):\n",
    "    _, _, x_time = simulate_recovery(num_contractors[i], ds, cons_time_list, greedy_order, sim_time)\n",
    "    if i == 0: \n",
    "        plt.plot(x_time/365, cost_base, drawstyle = 'steps-post', label = str(num_contractors[i]) + ' Crew', color = cmap(norm(i)))\n",
    "    else: \n",
    "        plt.plot(x_time/365, cost_base, drawstyle = 'steps-post', label = str(num_contractors[i]) + ' Crews',color = cmap(norm(i)))\n",
    "    results_cons[num_contractors[i]] = np.trapz(cost_base, x_time/365)\n",
    "    \n",
    "plt.grid(alpha = 0.3)\n",
    "plt.xlabel('Years')\n",
    "plt.ylabel('Cost')\n",
    "plt.ticklabel_format(axis = 'y', style = 'sci', scilimits = (0,0))\n",
    "plt.legend()\n",
    "plt.show()"
   ]
  },
  {
   "cell_type": "code",
   "execution_count": 116,
   "metadata": {},
   "outputs": [
    {
     "data": {
      "text/html": [
       "<div>\n",
       "<style scoped>\n",
       "    .dataframe tbody tr th:only-of-type {\n",
       "        vertical-align: middle;\n",
       "    }\n",
       "\n",
       "    .dataframe tbody tr th {\n",
       "        vertical-align: top;\n",
       "    }\n",
       "\n",
       "    .dataframe thead th {\n",
       "        text-align: right;\n",
       "    }\n",
       "</style>\n",
       "<table border=\"1\" class=\"dataframe\">\n",
       "  <thead>\n",
       "    <tr style=\"text-align: right;\">\n",
       "      <th></th>\n",
       "      <th>Area</th>\n",
       "    </tr>\n",
       "  </thead>\n",
       "  <tbody>\n",
       "    <tr>\n",
       "      <th>1</th>\n",
       "      <td>9.768705e+06</td>\n",
       "    </tr>\n",
       "    <tr>\n",
       "      <th>2</th>\n",
       "      <td>5.229747e+06</td>\n",
       "    </tr>\n",
       "    <tr>\n",
       "      <th>3</th>\n",
       "      <td>3.734820e+06</td>\n",
       "    </tr>\n",
       "    <tr>\n",
       "      <th>5</th>\n",
       "      <td>2.544959e+06</td>\n",
       "    </tr>\n",
       "    <tr>\n",
       "      <th>10</th>\n",
       "      <td>1.662966e+06</td>\n",
       "    </tr>\n",
       "  </tbody>\n",
       "</table>\n",
       "</div>"
      ],
      "text/plain": [
       "            Area\n",
       "1   9.768705e+06\n",
       "2   5.229747e+06\n",
       "3   3.734820e+06\n",
       "5   2.544959e+06\n",
       "10  1.662966e+06"
      ]
     },
     "execution_count": 116,
     "metadata": {},
     "output_type": "execute_result"
    }
   ],
   "source": [
    "pd.DataFrame.from_dict(results_cons, orient = 'index', columns = ['Area'])"
   ]
  },
  {
   "cell_type": "markdown",
   "metadata": {},
   "source": [
    "## Number of Moves"
   ]
  },
  {
   "cell_type": "code",
   "execution_count": 30,
   "metadata": {},
   "outputs": [],
   "source": [
    "order_move3, cost_move3, last_move3,_ = greedy_capacity_tmp(schools_id, tmpschool_id, ds, demand, cons_time, classroom, distance_matrix, B, 3, P)\n",
    "order_move1, cost_move1, last_move1,_ = greedy_capacity_tmp(schools_id, tmpschool_id, ds, demand, cons_time, classroom, distance_matrix, B, 1, P)"
   ]
  },
  {
   "cell_type": "code",
   "execution_count": 117,
   "metadata": {},
   "outputs": [],
   "source": [
    "orders = [order_move1, order_base, order_move3]\n",
    "costs = [cost_move1, cost_base, cost_move3]\n",
    "labels = ['1 Move', '2 Moves', '3 Moves']"
   ]
  },
  {
   "cell_type": "code",
   "execution_count": 118,
   "metadata": {},
   "outputs": [
    {
     "data": {
      "image/png": "[encoded data removed]",
      "text/plain": [
       "<Figure size 432x288 with 1 Axes>"
      ]
     },
     "metadata": {
      "needs_background": "light"
     },
     "output_type": "display_data"
    }
   ],
   "source": [
    "results_move = {}\n",
    "\n",
    "norm = matplotlib.colors.Normalize(vmin=0, vmax=len(orders))\n",
    "cmap = matplotlib.cm.get_cmap(\"viridis\")\n",
    "\n",
    "plt.figure()\n",
    "for j in range(len(orders)):\n",
    "    \n",
    "    # change ordering to be in index form\n",
    "    order = [np.where(schools_id == orders[j][i])[0][0] for i in range(len(orders[j]))]\n",
    "    _, _, x_time = simulate_recovery(num_cons, ds, cons_time_list, order, sim_time)\n",
    "    \n",
    "    plt.plot(x_time/365, costs[j], drawstyle = 'steps-post', label = labels[j], color = cmap(norm(j)))\n",
    "    \n",
    "    results_move[labels[j]] = np.trapz(costs[j], x_time/365)\n",
    "    \n",
    "plt.grid(alpha = 0.3)\n",
    "plt.xlabel('Years')\n",
    "plt.ylabel('Cost')\n",
    "plt.ticklabel_format(axis = 'y', style = 'sci', scilimits = (0,0))\n",
    "plt.legend()\n",
    "plt.show()"
   ]
  },
  {
   "cell_type": "code",
   "execution_count": 119,
   "metadata": {},
   "outputs": [
    {
     "data": {
      "text/html": [
       "<div>\n",
       "<style scoped>\n",
       "    .dataframe tbody tr th:only-of-type {\n",
       "        vertical-align: middle;\n",
       "    }\n",
       "\n",
       "    .dataframe tbody tr th {\n",
       "        vertical-align: top;\n",
       "    }\n",
       "\n",
       "    .dataframe thead th {\n",
       "        text-align: right;\n",
       "    }\n",
       "</style>\n",
       "<table border=\"1\" class=\"dataframe\">\n",
       "  <thead>\n",
       "    <tr style=\"text-align: right;\">\n",
       "      <th></th>\n",
       "      <th>Area</th>\n",
       "    </tr>\n",
       "  </thead>\n",
       "  <tbody>\n",
       "    <tr>\n",
       "      <th>1 Move</th>\n",
       "      <td>5.344774e+06</td>\n",
       "    </tr>\n",
       "    <tr>\n",
       "      <th>2 Moves</th>\n",
       "      <td>5.229747e+06</td>\n",
       "    </tr>\n",
       "    <tr>\n",
       "      <th>3 Moves</th>\n",
       "      <td>4.091220e+06</td>\n",
       "    </tr>\n",
       "  </tbody>\n",
       "</table>\n",
       "</div>"
      ],
      "text/plain": [
       "                 Area\n",
       "1 Move   5.344774e+06\n",
       "2 Moves  5.229747e+06\n",
       "3 Moves  4.091220e+06"
      ]
     },
     "execution_count": 119,
     "metadata": {},
     "output_type": "execute_result"
    }
   ],
   "source": [
    "pd.DataFrame.from_dict(results_move, orient = 'index', columns = ['Area'])"
   ]
  },
  {
   "cell_type": "markdown",
   "metadata": {},
   "source": [
    "## Student-to-Classroom Ratio"
   ]
  },
  {
   "cell_type": "code",
   "execution_count": 34,
   "metadata": {},
   "outputs": [],
   "source": [
    "order_b60, cost_b60, _,_ = greedy_capacity_tmp(schools_id, tmpschool_id, ds, demand, cons_time, classroom, distance_matrix, 60, M, P)\n",
    "order_b70, cost_b70, _,_ = greedy_capacity_tmp(schools_id, tmpschool_id, ds, demand, cons_time, classroom, distance_matrix, 70, M, P)\n",
    "order_b80, cost_b80, _,_ = greedy_capacity_tmp(schools_id, tmpschool_id, ds, demand, cons_time, classroom, distance_matrix, 80, M, P)\n",
    "order_b90, cost_b90, _,_ = greedy_capacity_tmp(schools_id, tmpschool_id, ds, demand, cons_time, classroom, distance_matrix, 90, M, P)\n",
    "order_b100, cost_b100, _,_ = greedy_capacity_tmp(schools_id, tmpschool_id, ds, demand, cons_time, classroom, distance_matrix, 100, M, P)"
   ]
  },
  {
   "cell_type": "code",
   "execution_count": 121,
   "metadata": {},
   "outputs": [],
   "source": [
    "orders = [order_base, order_b60, order_b70, order_b80, order_b90, order_b100]\n",
    "costs = [cost_base, cost_b60, cost_b70, cost_b80, cost_b90, cost_b100]\n",
    "labels = ['B = 50','B = 60', 'B = 70', 'B = 80', 'B = 90', 'B = 100']"
   ]
  },
  {
   "cell_type": "code",
   "execution_count": 122,
   "metadata": {},
   "outputs": [
    {
     "data": {
      "image/png": "[encoded data removed]",
      "text/plain": [
       "<Figure size 432x288 with 1 Axes>"
      ]
     },
     "metadata": {
      "needs_background": "light"
     },
     "output_type": "display_data"
    }
   ],
   "source": [
    "results_b = {}\n",
    "norm = matplotlib.colors.Normalize(vmin=0, vmax=len(orders))\n",
    "cmap = matplotlib.cm.get_cmap(\"viridis\")\n",
    "\n",
    "plt.figure()\n",
    "for j in range(len(orders)):\n",
    "    # change ordering to be in index form\n",
    "    order = [np.where(schools_id == orders[j][i])[0][0] for i in range(len(orders[j]))]\n",
    "    _, _, x_time = simulate_recovery(num_cons, ds, cons_time_list, order, sim_time)\n",
    "    \n",
    "    plt.plot(x_time/365, costs[j], drawstyle = 'steps-post', label = labels[j], color = cmap(norm(j)))\n",
    "    \n",
    "    results_b[labels[j]] = np.trapz(costs[j], x_time/365)\n",
    "    \n",
    "plt.grid(alpha = 0.3)\n",
    "plt.xlabel('Years')\n",
    "plt.ylabel('Cost')\n",
    "plt.ticklabel_format(axis = 'y', style = 'sci', scilimits = (0,0))\n",
    "plt.legend()\n",
    "plt.show()"
   ]
  },
  {
   "cell_type": "code",
   "execution_count": 123,
   "metadata": {},
   "outputs": [
    {
     "data": {
      "text/html": [
       "<div>\n",
       "<style scoped>\n",
       "    .dataframe tbody tr th:only-of-type {\n",
       "        vertical-align: middle;\n",
       "    }\n",
       "\n",
       "    .dataframe tbody tr th {\n",
       "        vertical-align: top;\n",
       "    }\n",
       "\n",
       "    .dataframe thead th {\n",
       "        text-align: right;\n",
       "    }\n",
       "</style>\n",
       "<table border=\"1\" class=\"dataframe\">\n",
       "  <thead>\n",
       "    <tr style=\"text-align: right;\">\n",
       "      <th></th>\n",
       "      <th>Area</th>\n",
       "    </tr>\n",
       "  </thead>\n",
       "  <tbody>\n",
       "    <tr>\n",
       "      <th>B = 50</th>\n",
       "      <td>5.229747e+06</td>\n",
       "    </tr>\n",
       "    <tr>\n",
       "      <th>B = 60</th>\n",
       "      <td>4.200945e+06</td>\n",
       "    </tr>\n",
       "    <tr>\n",
       "      <th>B = 70</th>\n",
       "      <td>4.022871e+06</td>\n",
       "    </tr>\n",
       "    <tr>\n",
       "      <th>B = 80</th>\n",
       "      <td>3.992895e+06</td>\n",
       "    </tr>\n",
       "    <tr>\n",
       "      <th>B = 90</th>\n",
       "      <td>4.050749e+06</td>\n",
       "    </tr>\n",
       "    <tr>\n",
       "      <th>B = 100</th>\n",
       "      <td>4.060781e+06</td>\n",
       "    </tr>\n",
       "  </tbody>\n",
       "</table>\n",
       "</div>"
      ],
      "text/plain": [
       "                 Area\n",
       "B = 50   5.229747e+06\n",
       "B = 60   4.200945e+06\n",
       "B = 70   4.022871e+06\n",
       "B = 80   3.992895e+06\n",
       "B = 90   4.050749e+06\n",
       "B = 100  4.060781e+06"
      ]
     },
     "execution_count": 123,
     "metadata": {},
     "output_type": "execute_result"
    }
   ],
   "source": [
    "pd.DataFrame.from_dict(results_b, orient = 'index', columns = ['Area'])"
   ]
  },
  {
   "cell_type": "markdown",
   "metadata": {},
   "source": [
    "## Number of Classrooms"
   ]
  },
  {
   "cell_type": "code",
   "execution_count": 79,
   "metadata": {},
   "outputs": [
    {
     "name": "stdout",
     "output_type": "stream",
     "text": [
      "classroom size: 11\n",
      "classroom size: 12\n",
      "classroom size: 15\n",
      "classroom size: 20\n"
     ]
    }
   ],
   "source": [
    "classroom_vals = [11,12,15,20]\n",
    "orders_size = []\n",
    "costs_size = []\n",
    "for n in range(len(classroom_vals)):\n",
    "    demand = dict(zip(schools['field_1'], schools['total_students']))\n",
    "    classroom = dict(zip(schools['field_1'], schools['classroom']))\n",
    "    \n",
    "    for i in tmpschool_id:\n",
    "        demand[i] = 0\n",
    "        classroom[i] = classroom_vals[n]\n",
    "    \n",
    "    print('classroom size:', classroom_vals[n])\n",
    "    order, cost, _, _ = greedy_capacity_tmp(schools_id, tmpschool_id, ds, demand, cons_time, classroom, distance_matrix, B, M, P)\n",
    "    \n",
    "    orders_size.append(order)\n",
    "    costs_size.append(cost)"
   ]
  },
  {
   "cell_type": "code",
   "execution_count": 80,
   "metadata": {},
   "outputs": [],
   "source": [
    "# orders = [orders_size[0], order_base, orders_size[1], orders_size[2]]\n",
    "# costs = [costs_size[0], cost_base, costs_size[1], costs_size[2]]\n",
    "# labels = ['11 classrooms', '12 classrooms', '15 classrooms', '20 classrooms']"
   ]
  },
  {
   "cell_type": "code",
   "execution_count": 126,
   "metadata": {},
   "outputs": [
    {
     "data": {
      "image/png": "[encoded data removed]",
      "text/plain": [
       "<Figure size 432x288 with 1 Axes>"
      ]
     },
     "metadata": {
      "needs_background": "light"
     },
     "output_type": "display_data"
    }
   ],
   "source": [
    "results_size = {}\n",
    "\n",
    "norm = matplotlib.colors.Normalize(vmin=0, vmax=len(orders_size))\n",
    "cmap = matplotlib.cm.get_cmap(\"viridis\")\n",
    "labels = ['11 classrooms', '12 classrooms', '15 classrooms', '20 classrooms']\n",
    "\n",
    "plt.figure()\n",
    "for j in range(len(orders_size)):\n",
    "    # change ordering to be in index form\n",
    "    order = [np.where(schools_id == orders_size[j][i])[0][0] for i in range(len(orders_size[j]))]\n",
    "    _, _, x_time = simulate_recovery(num_cons, ds, cons_time_list, order, sim_time)\n",
    "    \n",
    "    plt.plot(x_time/365, costs_size[j], drawstyle = 'steps-post', label = labels[j], color = cmap(norm(j)))\n",
    "    \n",
    "    results_size[labels[j]] = np.trapz(costs_size[j], x_time/365)\n",
    "    \n",
    "plt.grid(alpha = 0.3)\n",
    "plt.xlabel('Years')\n",
    "plt.ylabel('Cost')\n",
    "plt.ticklabel_format(axis = 'y', style = 'sci', scilimits = (0,0))\n",
    "plt.legend()\n",
    "plt.show()"
   ]
  },
  {
   "cell_type": "code",
   "execution_count": 127,
   "metadata": {},
   "outputs": [
    {
     "data": {
      "text/html": [
       "<div>\n",
       "<style scoped>\n",
       "    .dataframe tbody tr th:only-of-type {\n",
       "        vertical-align: middle;\n",
       "    }\n",
       "\n",
       "    .dataframe tbody tr th {\n",
       "        vertical-align: top;\n",
       "    }\n",
       "\n",
       "    .dataframe thead th {\n",
       "        text-align: right;\n",
       "    }\n",
       "</style>\n",
       "<table border=\"1\" class=\"dataframe\">\n",
       "  <thead>\n",
       "    <tr style=\"text-align: right;\">\n",
       "      <th></th>\n",
       "      <th>Area</th>\n",
       "    </tr>\n",
       "  </thead>\n",
       "  <tbody>\n",
       "    <tr>\n",
       "      <th>11 classrooms</th>\n",
       "      <td>5.295092e+06</td>\n",
       "    </tr>\n",
       "    <tr>\n",
       "      <th>12 classrooms</th>\n",
       "      <td>5.229747e+06</td>\n",
       "    </tr>\n",
       "    <tr>\n",
       "      <th>15 classrooms</th>\n",
       "      <td>4.970438e+06</td>\n",
       "    </tr>\n",
       "    <tr>\n",
       "      <th>20 classrooms</th>\n",
       "      <td>4.972589e+06</td>\n",
       "    </tr>\n",
       "  </tbody>\n",
       "</table>\n",
       "</div>"
      ],
      "text/plain": [
       "                       Area\n",
       "11 classrooms  5.295092e+06\n",
       "12 classrooms  5.229747e+06\n",
       "15 classrooms  4.970438e+06\n",
       "20 classrooms  4.972589e+06"
      ]
     },
     "execution_count": 127,
     "metadata": {},
     "output_type": "execute_result"
    }
   ],
   "source": [
    "pd.DataFrame.from_dict(results_size, orient = 'index', columns = ['Area'])"
   ]
  },
  {
   "cell_type": "markdown",
   "metadata": {},
   "source": [
    "## Penalty"
   ]
  },
  {
   "cell_type": "code",
   "execution_count": 90,
   "metadata": {},
   "outputs": [],
   "source": [
    "Ps = [0,50,100,500,1000]\n",
    "B = 50\n",
    "M = 2\n",
    "\n",
    "orders_penalty = []\n",
    "costs_penalty = []\n",
    "costs_np_penalty = []\n",
    "last_tmp_penalty = []\n",
    "\n",
    "for i in range(len(Ps)):\n",
    "    order, cost, cost_np, last_tmp,_ = greedy_capacity_np(schools_id, tmpschool_id, ds, demand, cons_time, classroom, distance_matrix, B, M, Ps[i])\n",
    "    \n",
    "    orders_penalty.append(order)\n",
    "    costs_penalty.append(cost)\n",
    "    costs_np_penalty.append(cost_np)\n",
    "    last_tmp_penalty.append(last_tmp)"
   ]
  },
  {
   "cell_type": "code",
   "execution_count": 132,
   "metadata": {},
   "outputs": [
    {
     "data": {
      "image/png": "[encoded data removed]",
      "text/plain": [
       "<Figure size 432x288 with 1 Axes>"
      ]
     },
     "metadata": {
      "needs_background": "light"
     },
     "output_type": "display_data"
    }
   ],
   "source": [
    "results_penalty_np = {}\n",
    "\n",
    "norm = matplotlib.colors.Normalize(vmin=0, vmax=len(orders_penalty)+1)\n",
    "cmap = matplotlib.cm.get_cmap(\"viridis\")\n",
    "\n",
    "plt.figure()\n",
    "for j in range(len(orders_penalty)):\n",
    "    # change ordering to be in index form\n",
    "    order = [np.where(schools_id == orders_penalty[j][i])[0][0] for i in range(len(orders_penalty[j]))]\n",
    "    _, _, x_time = simulate_recovery(num_cons, ds, cons_time_list, order, sim_time)\n",
    "    \n",
    "    label_plot = \"P = \"+ str(Ps[j])\n",
    "    plt.plot(x_time/365, costs_np_penalty[j], drawstyle = 'steps-post', label = label_plot, color = cmap(norm(j)))\n",
    "    \n",
    "    results_penalty_np[label_plot] = np.trapz(costs_np_penalty[j], x_time/365)\n",
    "    \n",
    "plt.grid(alpha = 0.3)\n",
    "plt.xlabel('Years')\n",
    "plt.ylabel('Cost')\n",
    "plt.ticklabel_format(axis = 'y', style = 'sci', scilimits = (0,0))\n",
    "plt.legend()\n",
    "plt.show()"
   ]
  },
  {
   "cell_type": "code",
   "execution_count": 130,
   "metadata": {},
   "outputs": [
    {
     "data": {
      "text/html": [
       "<div>\n",
       "<style scoped>\n",
       "    .dataframe tbody tr th:only-of-type {\n",
       "        vertical-align: middle;\n",
       "    }\n",
       "\n",
       "    .dataframe tbody tr th {\n",
       "        vertical-align: top;\n",
       "    }\n",
       "\n",
       "    .dataframe thead th {\n",
       "        text-align: right;\n",
       "    }\n",
       "</style>\n",
       "<table border=\"1\" class=\"dataframe\">\n",
       "  <thead>\n",
       "    <tr style=\"text-align: right;\">\n",
       "      <th></th>\n",
       "      <th>Area</th>\n",
       "    </tr>\n",
       "  </thead>\n",
       "  <tbody>\n",
       "    <tr>\n",
       "      <th>P = 0</th>\n",
       "      <td>3.731993e+06</td>\n",
       "    </tr>\n",
       "    <tr>\n",
       "      <th>P = 50</th>\n",
       "      <td>3.745343e+06</td>\n",
       "    </tr>\n",
       "    <tr>\n",
       "      <th>P = 100</th>\n",
       "      <td>3.758526e+06</td>\n",
       "    </tr>\n",
       "    <tr>\n",
       "      <th>P = 500</th>\n",
       "      <td>3.998294e+06</td>\n",
       "    </tr>\n",
       "    <tr>\n",
       "      <th>P = 1000</th>\n",
       "      <td>4.484134e+06</td>\n",
       "    </tr>\n",
       "  </tbody>\n",
       "</table>\n",
       "</div>"
      ],
      "text/plain": [
       "                  Area\n",
       "P = 0     3.731993e+06\n",
       "P = 50    3.745343e+06\n",
       "P = 100   3.758526e+06\n",
       "P = 500   3.998294e+06\n",
       "P = 1000  4.484134e+06"
      ]
     },
     "execution_count": 130,
     "metadata": {},
     "output_type": "execute_result"
    }
   ],
   "source": [
    "pd.DataFrame.from_dict(results_penalty_np, orient = 'index', columns = ['Area'])"
   ]
  },
  {
   "cell_type": "code",
   "execution_count": 138,
   "metadata": {},
   "outputs": [
    {
     "data": {
      "text/plain": [
       "[{94: 992, 91: 1075, 92: 1241, 93: 1324, 95: 1710},\n",
       " {94: 992, 91: 1075, 92: 1241, 93: 1324, 95: 1627},\n",
       " {94: 992, 91: 1075, 93: 1241, 92: 1324, 95: 1351},\n",
       " {95: 162, 92: 272, 93: 770, 91: 1019, 94: 1102},\n",
       " {91: 108, 95: 135, 92: 189, 93: 604, 94: 853}]"
      ]
     },
     "execution_count": 138,
     "metadata": {},
     "output_type": "execute_result"
    }
   ],
   "source": [
    "last_tmp_penalty"
   ]
  },
  {
   "cell_type": "markdown",
   "metadata": {},
   "source": [
    "## Number of Temporary Schools"
   ]
  },
  {
   "cell_type": "code",
   "execution_count": 45,
   "metadata": {},
   "outputs": [
    {
     "name": "stdout",
     "output_type": "stream",
     "text": [
      "Number of temp schools: 5\n",
      "Number of temp schools: 8\n",
      "Number of temp schools: 10\n"
     ]
    }
   ],
   "source": [
    "csvs = ['distance_tempschool_lp.csv','distance_temp8b50.csv', 'distance_temp10b50.csv']\n",
    "\n",
    "B = 50\n",
    "M = 2\n",
    "P = 1000\n",
    "orders_school = []\n",
    "costs_school = []\n",
    "costs_np_school = []\n",
    "for n in range(len(csvs)):\n",
    "    distance_temp = pd.read_csv(csvs[n])\n",
    "    \n",
    "    demand = dict(zip(schools['field_1'], schools['total_students']))\n",
    "    classroom = dict(zip(schools['field_1'], schools['classroom']))\n",
    "\n",
    "    # temporary schools\n",
    "    tmpschool_id = distance_temp['destination_id'].unique()\n",
    "    for i in tmpschool_id:\n",
    "        demand[i] = 0\n",
    "        classroom[i] = 12\n",
    "\n",
    "    distance_matrix = {}\n",
    "    for i in schools_id:\n",
    "        for j in schools_id:\n",
    "            dst = get_distance(i, j, distance)\n",
    "            distance_matrix[i,j] = dst\n",
    "        for k in tmpschool_id:\n",
    "            dst = get_distance(i, k, distance_temp)\n",
    "            distance_matrix[i,k] = dst\n",
    "            \n",
    "    print('Number of temp schools:', len(tmpschool_id))\n",
    "    order, cost, cost_np, _,_ = greedy_capacity_np(schools_id, tmpschool_id, ds, demand, cons_time, classroom, distance_matrix, B, M, P)\n",
    "    \n",
    "    orders_school.append(order)\n",
    "    costs_school.append(cost)\n",
    "    costs_np_school.append(cost_np)"
   ]
  },
  {
   "cell_type": "code",
   "execution_count": 46,
   "metadata": {},
   "outputs": [],
   "source": [
    "# orders = [orders_school[0], orders_school[1], orders_school[2]]\n",
    "# costs = [costs_school[0], costs_school[1], costs_school[2]]\n",
    "# costs_np = [costs_np_school[0], costs_np_school[1], costs_np_school[2]]"
   ]
  },
  {
   "cell_type": "code",
   "execution_count": 133,
   "metadata": {},
   "outputs": [
    {
     "data": {
      "image/png": "[encoded data removed]",
      "text/plain": [
       "<Figure size 432x288 with 1 Axes>"
      ]
     },
     "metadata": {
      "needs_background": "light"
     },
     "output_type": "display_data"
    }
   ],
   "source": [
    "results_schools_np = {}\n",
    "labels = ['5 schools', '8 schools', '10 schools']\n",
    "\n",
    "norm = matplotlib.colors.Normalize(vmin=0, vmax=len(orders_school))\n",
    "cmap = matplotlib.cm.get_cmap(\"viridis\")\n",
    "\n",
    "plt.figure()\n",
    "for j in range(len(orders_school)):\n",
    "    # change ordering to be in index form\n",
    "    order = [np.where(schools_id == orders_school[j][i])[0][0] for i in range(len(orders_school[j]))]\n",
    "    _, _, x_time = simulate_recovery(num_cons, ds, cons_time_list, order, sim_time)\n",
    "    \n",
    "    plt.plot(x_time/365, costs_np_school[j], drawstyle = 'steps-post', label = labels[j], color = cmap(norm(j)))\n",
    "    \n",
    "    results_schools_np[labels[j]] = np.trapz(costs_np_school[j], x_time/365)\n",
    "    \n",
    "plt.grid(alpha = 0.3)\n",
    "plt.xlabel('Years')\n",
    "plt.ylabel('Cost')\n",
    "plt.ticklabel_format(axis = 'y', style = 'sci', scilimits = (0,0))\n",
    "plt.legend()\n",
    "plt.show()"
   ]
  },
  {
   "cell_type": "code",
   "execution_count": 134,
   "metadata": {},
   "outputs": [
    {
     "data": {
      "text/html": [
       "<div>\n",
       "<style scoped>\n",
       "    .dataframe tbody tr th:only-of-type {\n",
       "        vertical-align: middle;\n",
       "    }\n",
       "\n",
       "    .dataframe tbody tr th {\n",
       "        vertical-align: top;\n",
       "    }\n",
       "\n",
       "    .dataframe thead th {\n",
       "        text-align: right;\n",
       "    }\n",
       "</style>\n",
       "<table border=\"1\" class=\"dataframe\">\n",
       "  <thead>\n",
       "    <tr style=\"text-align: right;\">\n",
       "      <th></th>\n",
       "      <th>Area</th>\n",
       "    </tr>\n",
       "  </thead>\n",
       "  <tbody>\n",
       "    <tr>\n",
       "      <th>5 schools</th>\n",
       "      <td>4.484134e+06</td>\n",
       "    </tr>\n",
       "    <tr>\n",
       "      <th>8 schools</th>\n",
       "      <td>2.874384e+06</td>\n",
       "    </tr>\n",
       "    <tr>\n",
       "      <th>10 schools</th>\n",
       "      <td>2.603828e+06</td>\n",
       "    </tr>\n",
       "  </tbody>\n",
       "</table>\n",
       "</div>"
      ],
      "text/plain": [
       "                    Area\n",
       "5 schools   4.484134e+06\n",
       "8 schools   2.874384e+06\n",
       "10 schools  2.603828e+06"
      ]
     },
     "execution_count": 134,
     "metadata": {},
     "output_type": "execute_result"
    }
   ],
   "source": [
    "pd.DataFrame.from_dict(results_schools_np, orient = 'index', columns = ['Area'])"
   ]
  },
  {
   "cell_type": "markdown",
   "metadata": {},
   "source": [
    "# Combine into Dictionary To Save Variables"
   ]
  },
  {
   "cell_type": "code",
   "execution_count": 135,
   "metadata": {},
   "outputs": [],
   "source": [
    "total_results =  {}\n",
    "\n",
    "#Basecase\n",
    "total_results['order_base'] = order_base\n",
    "total_results['cost_base'] = cost_base\n",
    "total_results['results_base'] = results_base\n",
    "total_results['order_disagg'] =  [order_disagg, order_demand, order_damage_demand, order_time_demand]\n",
    "total_results['cost_disagg'] = [cost_school_disagg, demand_cost_school_disagg, demanddamage_cost_school_disagg, timedemand_cost_school_disagg]\n",
    "\n",
    "# Sensitivity: number of construction crews\n",
    "total_results['results_cons'] = results_cons\n",
    "\n",
    "# Sennsitivity: Number of moves\n",
    "total_results['orders_move'] = [order_move1, order_base, order_move3]\n",
    "total_results['costs_move'] = [cost_move1, cost_base, cost_move3]\n",
    "total_results['results_move'] = results_move\n",
    "\n",
    "# sensitivity: student to classroom ratio\n",
    "total_results['orders_b'] = [order_base, order_b60, order_b70, order_b80, order_b90, order_b100]\n",
    "total_results['costs_b'] = [cost_base, cost_b60, cost_b70, cost_b80, cost_b90, cost_b100]\n",
    "total_results['results_b'] = results_b\n",
    "\n",
    "# Sensitivity: size\n",
    "total_results['orders_size'] = orders_size\n",
    "total_results['costs_size'] = costs_size\n",
    "total_results['results_size'] = results_size\n",
    "\n",
    "# Sensitivity: penalty\n",
    "total_results['orders_penalty'] = orders_penalty\n",
    "total_results['costs_penalty'] = costs_penalty\n",
    "total_results['costs_np_penalty'] = costs_np_penalty\n",
    "total_results['results_penalty_np'] = results_penalty_np\n",
    "\n",
    "# Sensitivity: number of temporary schools\n",
    "total_results['orders_school'] = orders_school\n",
    "total_results['costs_school'] = costs_school\n",
    "total_results['costs_np_school'] = costs_np_school\n",
    "total_results['results_schools_np'] = results_schools_np"
   ]
  },
  {
   "cell_type": "code",
   "execution_count": 136,
   "metadata": {},
   "outputs": [],
   "source": [
    "# save as pickle\n",
    "pickle.dump(total_results, open('results_realistic.pkl', 'wb'))"
   ]
  },
  {
   "cell_type": "markdown",
   "metadata": {},
   "source": [
    "# Compare with Government"
   ]
  },
  {
   "cell_type": "code",
   "execution_count": 16,
   "metadata": {},
   "outputs": [],
   "source": [
    "govt_school = np.array([3255, 3294, 3242, 3286, 3271, 3327, 3275, 3311])\n",
    "ds_repaired = np.array([ds[i] if schools_id[i] in govt_school else 0 for i in range(len(schools_id))])"
   ]
  },
  {
   "cell_type": "code",
   "execution_count": 19,
   "metadata": {},
   "outputs": [],
   "source": [
    "def greedy_damaged_8(govt_school, schools_id, tmpschool_id, ds, demand, cons_time, classroom, distance_matrix, B, M, P):\n",
    "    '''\n",
    "    Function to calculate school reconstruction ordering accounting for capacity, \n",
    "    maximum number of moves, and temporary schools.\n",
    "    Only chooses 8 schools that government chose\n",
    "    Assumes that other schools won't be reconstructed\n",
    "    \n",
    "    Input:\n",
    "    govt_school: array of school IDs that government chose\n",
    "    schools_id: array of school IDs in the region\n",
    "    tmpschool_id: array of temporary school IDs in the region\n",
    "    ds: array of damage states for all schools in the region (0,1,2,3)\n",
    "    demand: dict with keys school ID and values number of students enrolled for each school (includes temp school)\n",
    "    cons_time: dict of reconstruction time with keys school ID and values the construction time in days\n",
    "    classroom: dict with keys school ID and values the number of classroom in the corresponding school (includes temp school)\n",
    "    distance_matrix: a dict with keys school ID pairs, and value the distance between the two schools (includes temp school)\n",
    "    B: maximum student to classroom ratio\n",
    "    M: maximum number of moves students can perform\n",
    "    P: penalty for being in the temporary school\n",
    "    \n",
    "    Output:\n",
    "    order: array of school ID ordered based on the greedy algorithm\n",
    "    cost: array of costs (weighted-demand)\n",
    "    last_temp: a dict with of the last days students are in each temp school (key is temp school ID, value is day)\n",
    "    cost_reduction: the cost reduction at each time step\n",
    "    '''\n",
    "\n",
    "    num_damaged = len(govt_school)\n",
    "    undamaged_schools = schools_id[ds == 0]\n",
    "    damaged_schools = schools_id[ds != 0]\n",
    "    functional_schools = np.append(undamaged_schools, tmpschool_id) # undamaged + temporary schools\n",
    "\n",
    "    # total number of students in region\n",
    "    total_students = sum(demand.values())\n",
    "\n",
    "    # initial capacity with damaged schools\n",
    "    initial_capacity = sum([value for key,value in classroom.items() if key in functional_schools])*B\n",
    "\n",
    "    # initial check if problem is feasible\n",
    "    if total_students > initial_capacity:\n",
    "        raise ValueError('Not enough capacity!')\n",
    "\n",
    "    # Initialize arrays    \n",
    "    original = np.repeat(schools_id[0], demand[schools_id[0]]) # original schools student went\n",
    "    for i in range(1, len(schools_id)):\n",
    "        original = np.append(original, np.repeat(schools_id[i], demand[schools_id[i]])) \n",
    "    moves_used = np.zeros(total_students) # number of moves used by students\n",
    "    where = original.copy()\n",
    "\n",
    "    # add students to original school\n",
    "    membership = {school: [] for school in schools_id} \n",
    "    for s in range(total_students):\n",
    "        membership[original[s]].append(s)\n",
    "    for i in tmpschool_id: # initialize temporary school membership\n",
    "        membership[i] = []\n",
    "\n",
    "    # allocate students of damaged schools to nearest functional school, making sure it doesn't exceed capacity\n",
    "    cost = np.zeros(num_damaged+1)\n",
    "    for s in range(total_students):\n",
    "        if original[s] in damaged_schools: # only move students in damaged schools\n",
    "            potential_school_move = get_nearest_school_order(original[s], distance_matrix, functional_schools)\n",
    "            for i in range(len(potential_school_move)):\n",
    "                if len(membership[potential_school_move[i]]) < classroom[potential_school_move[i]]*B: # there is still enough space\n",
    "                    membership[potential_school_move[i]].append(s)\n",
    "                    membership[original[s]].remove(s)\n",
    "                    moves_used[s] += 1\n",
    "                    where[s] = potential_school_move[i]\n",
    "                    cost[0] += distance_matrix[(original[s], where[s])] # calculate initial cost\n",
    "                    if where[s] in tmpschool_id: # add penalty if student in temporary school\n",
    "                        cost[0] += P\n",
    "                    break\n",
    "\n",
    "    order = []\n",
    "    last_temp = {}\n",
    "    damaged_curr = govt_school.copy()\n",
    "    cost_reduction = np.zeros(num_damaged)\n",
    "    \n",
    "    for d in range(num_damaged):# loop through damaged schools and reconstruct\n",
    "        print('School {} out of {}'.format(d, num_damaged))\n",
    "#         print(damaged_curr)\n",
    "        potential = np.zeros(len(damaged_curr))\n",
    "\n",
    "        # calculate gittins index for each damaged school\n",
    "        index = 0\n",
    "        for i in damaged_curr:\n",
    "            _,_,_,potential[index] = calculate_potential_tmp(i, tmpschool_id, membership, moves_used, original, where, \n",
    "                                                   distance_matrix, total_students, classroom, B, M, P)\n",
    "            index += 1\n",
    "\n",
    "        # choose school with maximum potential\n",
    "        chosen_school_index = np.argmax(potential/[cons_time[i] for i in damaged_curr])\n",
    "        chosen_school = damaged_curr[chosen_school_index]\n",
    "#         print(chosen_school)\n",
    "        order.append(chosen_school)\n",
    "\n",
    "        # update all other values\n",
    "        membership, moves_used, where, cost_reduction[d] = calculate_potential_tmp(chosen_school, tmpschool_id, membership, moves_used, original, \n",
    "                                                                            where, distance_matrix, total_students, classroom, B, M, P)\n",
    "        cost[d+1] = cost[d] - cost_reduction[d]\n",
    "        damaged_curr = damaged_curr[damaged_curr != chosen_school] # chosen school no longer damaged\n",
    "#         print(damaged_curr != chosen_school)\n",
    "        undamaged_schools = np.append(undamaged_schools, chosen_school) # chosen school is now reconstructed\n",
    "        \n",
    "        # keep track of the last time period students are in each temporary school\n",
    "        for i in tmpschool_id:\n",
    "            if not membership[i] and not i in last_temp.keys(): # no more students in the temporary school\n",
    "                last_temp[i] = sum([cons_time[j] for j in order])\n",
    "        \n",
    "    return order, cost, last_temp, cost_reduction"
   ]
  },
  {
   "cell_type": "code",
   "execution_count": 20,
   "metadata": {},
   "outputs": [
    {
     "name": "stdout",
     "output_type": "stream",
     "text": [
      "School 0 out of 8\n",
      "School 1 out of 8\n",
      "School 2 out of 8\n",
      "School 3 out of 8\n",
      "School 4 out of 8\n",
      "School 5 out of 8\n",
      "School 6 out of 8\n",
      "School 7 out of 8\n"
     ]
    }
   ],
   "source": [
    "# assumes only the 8 schools are repaired, the rest are still damaged\n",
    "order_damage_8, cost_damage_8, _,_ = greedy_damaged_8(govt_school, schools_id, tmpschool_id, ds, demand, cons_time, \n",
    "                                                                     classroom, distance_matrix, B, M, P)"
   ]
  },
  {
   "cell_type": "code",
   "execution_count": 21,
   "metadata": {},
   "outputs": [
    {
     "data": {
      "text/plain": [
       "[3242, 3286, 3275, 3271, 3255, 3294, 3327, 3311]"
      ]
     },
     "execution_count": 21,
     "metadata": {},
     "output_type": "execute_result"
    }
   ],
   "source": [
    "order_damage_8"
   ]
  },
  {
   "cell_type": "code",
   "execution_count": 163,
   "metadata": {},
   "outputs": [
    {
     "data": {
      "text/plain": [
       "field_1\n",
       "3242    (50200275) SD NEGERI 2 SIGAR PENJALIN\n",
       "3286            (50200159) SD NEGERI 2 SOKONG\n",
       "3275          (50200442) SD NEGERI 4 JENGGALA\n",
       "3271        (50200183) SD NEGERI 3 TEGAL MAJA\n",
       "3255               (69933736) SDI Al - Furqan\n",
       "3294            (50200788) SD NEGERI 1 SOKONG\n",
       "3327        (50200139) SD NEGERI 2 TEGAL MAJA\n",
       "3311        (50200431) SD NEGERI 4 TEGAL MAJA\n",
       "Name: name, dtype: object"
      ]
     },
     "execution_count": 163,
     "metadata": {},
     "output_type": "execute_result"
    }
   ],
   "source": [
    "schools_idx = schools.set_index('field_1')\n",
    "schools_idx.loc[order_damage_8, 'name']"
   ]
  },
  {
   "cell_type": "code",
   "execution_count": 22,
   "metadata": {},
   "outputs": [],
   "source": [
    "cost_govt = naive_capacity_tmp(govt_school, schools_id, tmpschool_id, ds, demand, classroom, distance_matrix, B, M, P)"
   ]
  },
  {
   "cell_type": "code",
   "execution_count": 36,
   "metadata": {},
   "outputs": [],
   "source": [
    "orders = [order_damage_8, govt_school]\n",
    "costs = [cost_damage_8, cost_govt[:len(govt_school)+1]]\n",
    "labels = ['Greedy', 'Reconstruction Data']"
   ]
  },
  {
   "cell_type": "code",
   "execution_count": 38,
   "metadata": {},
   "outputs": [
    {
     "data": {
      "image/png": "[encoded data removed]",
      "text/plain": [
       "<Figure size 432x288 with 1 Axes>"
      ]
     },
     "metadata": {
      "needs_background": "light"
     },
     "output_type": "display_data"
    }
   ],
   "source": [
    "# Need to convert ordering into multiple contractors\n",
    "sim_time = 2500\n",
    "num_cons = 2\n",
    "\n",
    "results_govt = {}\n",
    "plt.figure()\n",
    "for i in range(len(orders)):\n",
    "    \n",
    "    # change ordering to be in index form\n",
    "    order = [np.where(schools_id == orders[i][j])[0][0] for j in range(len(orders[i]))]\n",
    "    \n",
    "    _, _, x_time = simulate_recovery(num_cons, ds, cons_time_list, order, sim_time)\n",
    "    plt.plot(x_time/365, costs[i], drawstyle = 'steps-post', label = labels[i])\n",
    "    results_govt[labels[i]] = np.trapz(costs[i], x_time/365)\n",
    "\n",
    "plt.grid(alpha = 0.3)\n",
    "plt.xlabel('Years')\n",
    "plt.ylabel('Cost')\n",
    "plt.ticklabel_format(axis = 'y', style = 'sci', scilimits = (0,0))\n",
    "plt.legend()\n",
    "plt.show()"
   ]
  },
  {
   "cell_type": "code",
   "execution_count": 39,
   "metadata": {},
   "outputs": [
    {
     "data": {
      "text/plain": [
       "{'Greedy': 5099757.751265857, 'Reconstruction Data': 5307365.835847384}"
      ]
     },
     "execution_count": 39,
     "metadata": {},
     "output_type": "execute_result"
    }
   ],
   "source": [
    "results_govt"
   ]
  },
  {
   "cell_type": "code",
   "execution_count": 165,
   "metadata": {},
   "outputs": [
    {
     "name": "stderr",
     "output_type": "stream",
     "text": [
      "No handles with labels found to put in legend.\n"
     ]
    },
    {
     "name": "stdout",
     "output_type": "stream",
     "text": [
      "cost:  5099757.751265857\n"
     ]
    },
    {
     "data": {
      "image/png": "[encoded data removed]",
      "text/plain": [
       "<Figure size 432x288 with 1 Axes>"
      ]
     },
     "metadata": {
      "needs_background": "light"
     },
     "output_type": "display_data"
    }
   ],
   "source": [
    "# assumes only the 8 schools are repaired, the rest are still damaged\n",
    "# Need to convert ordering into multiple contractors\n",
    "sim_time = 2500\n",
    "num_cons = 2\n",
    "\n",
    "plt.figure()\n",
    "# change ordering to be in index form\n",
    "order = [np.where(schools_id == order_damage_8[j])[0][0] for j in range(len(order_damage_8))]\n",
    "\n",
    "data_comp, _, x_time = simulate_recovery(num_cons, ds, cons_time_list, order, sim_time)\n",
    "plt.plot(x_time/365, cost_damage_8, drawstyle = 'steps-post')\n",
    "print('cost: ', np.trapz(cost_damage_8, x_time/365))\n",
    "\n",
    "plt.grid(alpha = 0.3)\n",
    "plt.xlabel('Years')\n",
    "plt.ylabel('Cost')\n",
    "plt.ticklabel_format(axis = 'y', style = 'sci', scilimits = (0,0))\n",
    "plt.legend()\n",
    "plt.show()"
   ]
  },
  {
   "cell_type": "code",
   "execution_count": 168,
   "metadata": {},
   "outputs": [
    {
     "name": "stdout",
     "output_type": "stream",
     "text": [
      "School 0 out of 8\n",
      "School 1 out of 8\n",
      "School 2 out of 8\n",
      "School 3 out of 8\n",
      "School 4 out of 8\n",
      "School 5 out of 8\n",
      "School 6 out of 8\n",
      "School 7 out of 8\n"
     ]
    }
   ],
   "source": [
    "# assumes that all other schools are repaired, except for the 8\n",
    "order_repaired_8, cost_repaired_8, _,_ = greedy_damaged_8(govt_school, schools_id, tmpschool_id, ds_repaired, demand, cons_time, \n",
    "                                                                     classroom, distance_matrix, B, M, P)"
   ]
  },
  {
   "cell_type": "code",
   "execution_count": 169,
   "metadata": {},
   "outputs": [
    {
     "data": {
      "text/plain": [
       "field_1\n",
       "3242    (50200275) SD NEGERI 2 SIGAR PENJALIN\n",
       "3286            (50200159) SD NEGERI 2 SOKONG\n",
       "3271        (50200183) SD NEGERI 3 TEGAL MAJA\n",
       "3311        (50200431) SD NEGERI 4 TEGAL MAJA\n",
       "3294            (50200788) SD NEGERI 1 SOKONG\n",
       "3255               (69933736) SDI Al - Furqan\n",
       "3275          (50200442) SD NEGERI 4 JENGGALA\n",
       "3327        (50200139) SD NEGERI 2 TEGAL MAJA\n",
       "Name: name, dtype: object"
      ]
     },
     "execution_count": 169,
     "metadata": {},
     "output_type": "execute_result"
    }
   ],
   "source": [
    "schools_idx.loc[order_repaired_8, 'name']"
   ]
  },
  {
   "cell_type": "code",
   "execution_count": 170,
   "metadata": {},
   "outputs": [
    {
     "name": "stderr",
     "output_type": "stream",
     "text": [
      "No handles with labels found to put in legend.\n"
     ]
    },
    {
     "name": "stdout",
     "output_type": "stream",
     "text": [
      "cost:  368190.2832452289\n"
     ]
    },
    {
     "data": {
      "image/png": "[encoded data removed]",
      "text/plain": [
       "<Figure size 432x288 with 1 Axes>"
      ]
     },
     "metadata": {
      "needs_background": "light"
     },
     "output_type": "display_data"
    }
   ],
   "source": [
    "# assumes that all other schools are repaired, except for the 8\n",
    "\n",
    "# Need to convert ordering into multiple contractors\n",
    "sim_time = 2500\n",
    "num_cons = 2\n",
    "\n",
    "plt.figure()\n",
    "# change ordering to be in index form\n",
    "order = [np.where(schools_id == order_repaired_8[j])[0][0] for j in range(len(order_repaired_8))]\n",
    "\n",
    "data_comp, _, x_time = simulate_recovery(num_cons, ds, cons_time_list, order, sim_time)\n",
    "plt.plot(x_time/365, cost_repaired_8, drawstyle = 'steps-post')\n",
    "print('cost: ', np.trapz(cost_repaired_8, x_time/365))\n",
    "\n",
    "plt.grid(alpha = 0.3)\n",
    "plt.xlabel('Years')\n",
    "plt.ylabel('Cost')\n",
    "plt.ticklabel_format(axis = 'y', style = 'sci', scilimits = (0,0))\n",
    "plt.legend()\n",
    "plt.show()"
   ]
  },
  {
   "cell_type": "code",
   "execution_count": 61,
   "metadata": {},
   "outputs": [],
   "source": [
    "x1 = np.array([0,10,30]) # AB\n",
    "x2 = np.array([0,20,30]) # BA\n",
    "y1 = np.array([2*15+50*1,50*1,0]) #AB\n",
    "y2 = np.array([2*15+50*1,15*2,0]) #BA"
   ]
  },
  {
   "cell_type": "code",
   "execution_count": 62,
   "metadata": {},
   "outputs": [
    {
     "data": {
      "image/png": "[encoded data removed]",
      "text/plain": [
       "<Figure size 432x288 with 1 Axes>"
      ]
     },
     "metadata": {
      "needs_background": "light"
     },
     "output_type": "display_data"
    }
   ],
   "source": [
    "plt.figure()\n",
    "plt.plot(x1,y1, drawstyle = 'steps-post')\n",
    "plt.fill_between(x1, 0, y1, step = 'post', alpha = 0.1)\n",
    "\n",
    "plt.plot(x2,y2, drawstyle = 'steps-post')\n",
    "plt.fill_between(x2, 0, y2, step = 'post', alpha = 0.1)\n",
    "plt.xlabel('Time')\n",
    "plt.ylabel('Cost')\n",
    "plt.legend(['(A,B)', '(B,A)'], loc = 'upper right')\n",
    "plt.grid(alpha = 0.3)\n",
    "plt.show()"
   ]
  },
  {
   "cell_type": "code",
   "execution_count": 63,
   "metadata": {},
   "outputs": [
    {
     "data": {
      "text/plain": [
       "1150.0"
      ]
     },
     "execution_count": 63,
     "metadata": {},
     "output_type": "execute_result"
    }
   ],
   "source": [
    "np.trapz(y1,x1)"
   ]
  },
  {
   "cell_type": "code",
   "execution_count": 64,
   "metadata": {},
   "outputs": [
    {
     "data": {
      "text/plain": [
       "1250.0"
      ]
     },
     "execution_count": 64,
     "metadata": {},
     "output_type": "execute_result"
    }
   ],
   "source": [
    "np.trapz(y2,x2)"
   ]
  },
  {
   "cell_type": "code",
   "execution_count": null,
   "metadata": {},
   "outputs": [],
   "source": []
  }
 ],
 "metadata": {
  "kernelspec": {
   "display_name": "Python 3",
   "language": "python",
   "name": "python3"
  },
  "language_info": {
   "codemirror_mode": {
    "name": "ipython",
    "version": 3
   },
   "file_extension": ".py",
   "mimetype": "text/x-python",
   "name": "python",
   "nbconvert_exporter": "python",
   "pygments_lexer": "ipython3",
   "version": "3.7.6"
  }
 },
 "nbformat": 4,
 "nbformat_minor": 4
}
